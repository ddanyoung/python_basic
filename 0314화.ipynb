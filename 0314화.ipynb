{
 "cells": [
  {
   "attachments": {},
   "cell_type": "markdown",
   "metadata": {},
   "source": [
    "## 문제\n",
    "- 1~100 사이의 무작위 정수를 생성하여 numbers list에 100개의 정수를 저장하고 출력하세요.\n",
    "- 조건1) append(), while구문을 사용하여 저장\n",
    "- 조건2) 출력은 for 구문을 사용"
   ]
  },
  {
   "cell_type": "code",
   "execution_count": 1,
   "metadata": {},
   "outputs": [],
   "source": [
    "# 난수를 발생하는 라이브러리\n",
    "from random import randint"
   ]
  },
  {
   "cell_type": "code",
   "execution_count": 2,
   "metadata": {},
   "outputs": [],
   "source": [
    "n = 0\n",
    "numbers_list = []\n",
    "\n",
    "while n < 100 :\n",
    "    numbers_list.append(randint(1, 100))\n",
    "    n += 1"
   ]
  },
  {
   "cell_type": "code",
   "execution_count": 14,
   "metadata": {},
   "outputs": [
    {
     "name": "stdout",
     "output_type": "stream",
     "text": [
      "배열 요소의 갯수: 100\n",
      "  7  47  19  69  28  72  43  57  76  89 \n",
      " 73  35  21  29  96  47  40  72  31  36 \n",
      " 30  45  79   2  77  21  64   8  37  19 \n",
      " 78  46   5  64  63  98  35  38  66  37 \n",
      " 77  10  72  99  48  51  52  46  12  29 \n",
      " 18  91  64  51  29   4  47  43  25  49 \n",
      " 36  86  47  83  34  51  99  17  60 100 \n",
      " 65  19  98  62  48  60  17  22  40  67 \n",
      " 76  40  54  13  60  51  62  13  40  18 \n",
      " 72   1  49  83  66  72  11  93  90  48 \n"
     ]
    }
   ],
   "source": [
    "print(\"배열 요소의 갯수:\", len(numbers_list))\n",
    "\n",
    "line = 0\n",
    "for i in numbers_list:\n",
    "    print(\"%3d\"%i, end=\" \")\n",
    "    line += 1\n",
    "    if line % 10 == 0:\n",
    "        print()"
   ]
  },
  {
   "attachments": {},
   "cell_type": "markdown",
   "metadata": {},
   "source": [
    "## 정렬\n",
    "- Ascending: 오름차순\n",
    "- Descending: 내림차순"
   ]
  },
  {
   "cell_type": "code",
   "execution_count": 17,
   "metadata": {},
   "outputs": [
    {
     "name": "stdout",
     "output_type": "stream",
     "text": [
      "배열 요소의 갯수: 100\n",
      "  1   2   4   5   7   8  10  11  12  13 \n",
      " 13  17  17  18  18  19  19  19  21  21 \n",
      " 22  25  28  29  29  29  30  31  34  35 \n",
      " 35  36  36  37  37  38  40  40  40  40 \n",
      " 43  43  45  46  46  47  47  47  47  48 \n",
      " 48  48  49  49  51  51  51  51  52  54 \n",
      " 57  60  60  60  62  62  63  64  64  64 \n",
      " 65  66  66  67  69  72  72  72  72  72 \n",
      " 73  76  76  77  77  78  79  83  83  86 \n",
      " 89  90  91  93  96  98  98  99  99 100 \n"
     ]
    }
   ],
   "source": [
    "print(\"배열 요소의 갯수:\", len(numbers_list))\n",
    "\n",
    "line = 0\n",
    "# 요소 정렬\n",
    "numbers_list.sort()\n",
    "for i in numbers_list:\n",
    "    print(\"%3d\"%i, end=\" \")\n",
    "    line += 1\n",
    "    if line % 10 == 0:\n",
    "        print()"
   ]
  },
  {
   "attachments": {},
   "cell_type": "markdown",
   "metadata": {},
   "source": [
    "### selection sort(선택 정렬)"
   ]
  },
  {
   "cell_type": "code",
   "execution_count": 2,
   "metadata": {},
   "outputs": [
    {
     "name": "stdout",
     "output_type": "stream",
     "text": [
      "초기 데이터 = [10, 6, 2, 4, 8, 9, 3, 5, 1, 7]\n",
      "정렬한 데이터 = [10, 9, 8, 7, 6, 5, 4, 3, 2, 1]\n"
     ]
    }
   ],
   "source": [
    "num = [10, 6, 2, 4, 8, 9, 3, 5, 1, 7]\n",
    "print(\"초기 데이터 =\", num)\n",
    "l = len(num)\n",
    "for i in range(l - 1):\n",
    "    for j in range(i, l):\n",
    "        if num[i] > num[j]:\n",
    "            temp = num[i]\n",
    "            num[i] = num[j]\n",
    "            num[j] = temp\n",
    "print(\"정렬한 데이터 =\", num)"
   ]
  },
  {
   "cell_type": "code",
   "execution_count": null,
   "metadata": {},
   "outputs": [],
   "source": []
  }
 ],
 "metadata": {
  "kernelspec": {
   "display_name": "min",
   "language": "python",
   "name": "min"
  },
  "language_info": {
   "codemirror_mode": {
    "name": "ipython",
    "version": 3
   },
   "file_extension": ".py",
   "mimetype": "text/x-python",
   "name": "python",
   "nbconvert_exporter": "python",
   "pygments_lexer": "ipython3",
   "version": "3.10.10"
  },
  "orig_nbformat": 4
 },
 "nbformat": 4,
 "nbformat_minor": 2
}
