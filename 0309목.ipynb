{
 "cells": [
  {
   "attachments": {},
   "cell_type": "markdown",
   "metadata": {},
   "source": [
    "## for문\n",
    "- for 변수 in 시퀀스\n",
    "- for 변수 in range(정수)"
   ]
  },
  {
   "cell_type": "code",
   "execution_count": 15,
   "metadata": {},
   "outputs": [
    {
     "name": "stdout",
     "output_type": "stream",
     "text": [
      "  프\n",
      "  로\n",
      "  그\n",
      "  래\n",
      "  밍\n"
     ]
    }
   ],
   "source": [
    "my_string = '프로그래밍'\n",
    "for str in my_string:\n",
    "    print(\"%3s\"%str)"
   ]
  },
  {
   "cell_type": "code",
   "execution_count": 10,
   "metadata": {},
   "outputs": [
    {
     "name": "stdout",
     "output_type": "stream",
     "text": [
      "래\n"
     ]
    }
   ],
   "source": [
    "print(my_string[3])"
   ]
  },
  {
   "cell_type": "code",
   "execution_count": 16,
   "metadata": {},
   "outputs": [
    {
     "name": "stdout",
     "output_type": "stream",
     "text": [
      "프로그래밍     \n"
     ]
    }
   ],
   "source": [
    "# 포맷 함수\n",
    "print(format(my_string, \"10s\"))"
   ]
  },
  {
   "attachments": {},
   "cell_type": "markdown",
   "metadata": {},
   "source": [
    "## 터틀 라이브러리"
   ]
  },
  {
   "cell_type": "code",
   "execution_count": null,
   "metadata": {},
   "outputs": [],
   "source": [
    "import turtle\n",
    "t = turtle.Turtle()\n",
    "\n",
    "for count in range(6):\n",
    "    t.circle(100)\n",
    "    t.left(360/6)"
   ]
  },
  {
   "cell_type": "code",
   "execution_count": null,
   "metadata": {},
   "outputs": [],
   "source": [
    "t = turtle.Turtle()\n",
    "t.shape(\"turtle\")\n",
    "\n",
    "for i in range(3):\n",
    "    t.forward(100)\n",
    "    t.left(360/3)"
   ]
  },
  {
   "attachments": {},
   "cell_type": "markdown",
   "metadata": {},
   "source": [
    "## for each"
   ]
  },
  {
   "cell_type": "code",
   "execution_count": 21,
   "metadata": {},
   "outputs": [
    {
     "name": "stdout",
     "output_type": "stream",
     "text": [
      "       홍길동\n",
      "홍길동       \n",
      "       박기자\n",
      "박기자       \n",
      "       이승리\n",
      "이승리       \n",
      "       최고다\n",
      "최고다       \n"
     ]
    }
   ],
   "source": [
    "adata = ['홍길동', '박기자', '이승리', '최고다']\n",
    "for name in adata :\n",
    "    print(format(name, '>10s'))\n",
    "    print(\"%-10s\"%name)"
   ]
  },
  {
   "cell_type": "code",
   "execution_count": 24,
   "metadata": {},
   "outputs": [
    {
     "name": "stdout",
     "output_type": "stream",
     "text": [
      "홍길동\n",
      "['123', '456']\n",
      "박기자\n",
      "이승리\n",
      "최고다\n"
     ]
    }
   ],
   "source": [
    "adata = ('홍길동', ['123', '456'], '박기자', '이승리', '최고다')    # 튜플타입\n",
    "for name in adata :\n",
    "    print(name)"
   ]
  },
  {
   "cell_type": "code",
   "execution_count": 53,
   "metadata": {},
   "outputs": [
    {
     "name": "stdout",
     "output_type": "stream",
     "text": [
      "이승리은(는) 등록된 이름입니다.\n"
     ]
    }
   ],
   "source": [
    "bName = [\"홍길동\", \"이승리\", \"최고다\"]\n",
    "iName = input(\"검색할 이름을 입력하세요.\")\n",
    "\n",
    "for sName in bName :\n",
    "    if iName == sName :\n",
    "        b = True\n",
    "        print(iName+\"은(는) 등록된 이름입니다.\")\n",
    "        break\n",
    "    else :\n",
    "        b = False\n",
    "\n",
    "if b == False :\n",
    "    print(iName+\"은(는) 등록되어 있지 않습니다.\")"
   ]
  },
  {
   "cell_type": "code",
   "execution_count": null,
   "metadata": {},
   "outputs": [],
   "source": []
  }
 ],
 "metadata": {
  "kernelspec": {
   "display_name": "min",
   "language": "python",
   "name": "min"
  },
  "language_info": {
   "codemirror_mode": {
    "name": "ipython",
    "version": 3
   },
   "file_extension": ".py",
   "mimetype": "text/x-python",
   "name": "python",
   "nbconvert_exporter": "python",
   "pygments_lexer": "ipython3",
   "version": "3.10.10"
  },
  "orig_nbformat": 4
 },
 "nbformat": 4,
 "nbformat_minor": 2
}
