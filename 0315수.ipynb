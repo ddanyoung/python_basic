{
 "cells": [
  {
   "attachments": {},
   "cell_type": "markdown",
   "metadata": {},
   "source": [
    "## 문제\n",
    "Lotto game Program\n",
    "조건)\n",
    "- 1~45까지 무작위 수 6개 생성\n",
    "- 6개의 수는 중복X\n",
    "- 최종 출력은 Ascending Sort해서 출력\n",
    "\n",
    "결과 예시)    \n",
    "[2, 5, 11, 20, 33, 45]"
   ]
  },
  {
   "cell_type": "code",
   "execution_count": 24,
   "metadata": {},
   "outputs": [
    {
     "name": "stdout",
     "output_type": "stream",
     "text": [
      "[3, 25, 26, 42, 43, 44]\n"
     ]
    }
   ],
   "source": [
    "import random\n",
    "\n",
    "lotto = []\n",
    "while len(lotto) != 6:\n",
    "    num = random.randint(1, 45)\n",
    "    if num not in lotto:\n",
    "        lotto.append(num)\n",
    "\n",
    "lotto.sort()\n",
    "print(lotto)"
   ]
  },
  {
   "cell_type": "code",
   "execution_count": 47,
   "metadata": {},
   "outputs": [],
   "source": [
    "def sum_my(x, y) :\n",
    "    sum = x + y\n",
    "    return sum\n",
    "\n",
    "sum_my(5 ,7)"
   ]
  },
  {
   "cell_type": "code",
   "execution_count": 49,
   "metadata": {},
   "outputs": [
    {
     "name": "stdout",
     "output_type": "stream",
     "text": [
      "*****\n",
      "Title\n",
      "*****\n"
     ]
    }
   ],
   "source": [
    "def line_print() :\n",
    "    print(\"*\" * 5)\n",
    "    print(\"Title\")\n",
    "    print(\"*\" * 5)\n",
    "\n",
    "line_print()"
   ]
  },
  {
   "cell_type": "code",
   "execution_count": null,
   "metadata": {},
   "outputs": [],
   "source": []
  },
  {
   "cell_type": "code",
   "execution_count": null,
   "metadata": {},
   "outputs": [],
   "source": []
  },
  {
   "cell_type": "code",
   "execution_count": null,
   "metadata": {},
   "outputs": [],
   "source": []
  }
 ],
 "metadata": {
  "kernelspec": {
   "display_name": "min",
   "language": "python",
   "name": "min"
  },
  "language_info": {
   "codemirror_mode": {
    "name": "ipython",
    "version": 3
   },
   "file_extension": ".py",
   "mimetype": "text/x-python",
   "name": "python",
   "nbconvert_exporter": "python",
   "pygments_lexer": "ipython3",
   "version": "3.10.10"
  },
  "orig_nbformat": 4
 },
 "nbformat": 4,
 "nbformat_minor": 2
}
